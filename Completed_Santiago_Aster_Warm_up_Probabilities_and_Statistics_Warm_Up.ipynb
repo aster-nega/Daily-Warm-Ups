{
  "nbformat": 4,
  "nbformat_minor": 0,
  "metadata": {
    "colab": {
      "name": "Warm_up_Probabilities-and-Statistics-Warm-Up.ipynb",
      "provenance": [],
      "include_colab_link": true
    },
    "kernelspec": {
      "name": "python3",
      "display_name": "Python 3"
    }
  },
  "cells": [
    {
      "cell_type": "markdown",
      "metadata": {
        "id": "view-in-github",
        "colab_type": "text"
      },
      "source": [
        "<a href=\"https://colab.research.google.com/github/sberniz/Daily-Warm-Ups/blob/master/Completed_Santiago_Aster_Warm_up_Probabilities_and_Statistics_Warm_Up.ipynb\" target=\"_parent\"><img src=\"https://colab.research.google.com/assets/colab-badge.svg\" alt=\"Open In Colab\"/></a>"
      ]
    },
    {
      "cell_type": "markdown",
      "metadata": {
        "id": "VMoZZRrA6PNT",
        "colab_type": "text"
      },
      "source": [
        "# Probabilities and Statistics Warm-Up\n",
        "---\n",
        "---\n",
        "---\n",
        "\n",
        "In the slack channel recruit a partner, you and your partner should work together from one of your own notebooks. When you're finished PR the completed warm up assignment into your partners repository.\n",
        "\n",
        "## Concepts\n",
        "----\n",
        "\n",
        "Discuss, and answer, the following conceptual questions."
      ]
    },
    {
      "cell_type": "markdown",
      "metadata": {
        "id": "V04MgkqEMuvy",
        "colab_type": "text"
      },
      "source": [
        "#### What is a normal distribution?\n"
      ]
    },
    {
      "cell_type": "markdown",
      "metadata": {
        "id": "ZKkASG0-MyWO",
        "colab_type": "text"
      },
      "source": [
        "**Answer:**\n",
        "\n"
      ]
    },
    {
      "cell_type": "markdown",
      "metadata": {
        "id": "kDK7FVrDM1Jy",
        "colab_type": "text"
      },
      "source": [
        "Normal Distribution is when a sample is representative of the entire population and the graph is a 'bell shape'. "
      ]
    },
    {
      "cell_type": "markdown",
      "metadata": {
        "id": "Fpsp_p5SKnT3",
        "colab_type": "text"
      },
      "source": [
        "#### What is the difference between descriptive and inferential statistics?"
      ]
    },
    {
      "cell_type": "markdown",
      "metadata": {
        "id": "sv006xPV8IKG",
        "colab_type": "text"
      },
      "source": [
        "**Answer:**\n",
        "<!-- Your answer in the following cell -->"
      ]
    },
    {
      "cell_type": "markdown",
      "metadata": {
        "id": "FXkw5RJR8hdC",
        "colab_type": "text"
      },
      "source": [
        "Descriptive: Describe the data from a dataset. \n",
        "\n",
        "Inferential: Take a sample of a dataset(population)  and calculate(make predictions)  about an entire population(data set). "
      ]
    },
    {
      "cell_type": "markdown",
      "metadata": {
        "id": "OU_2uraV8vrX",
        "colab_type": "text"
      },
      "source": [
        "#### What is a null hypothesis?"
      ]
    },
    {
      "cell_type": "markdown",
      "metadata": {
        "id": "oBq4KPtbJ_zx",
        "colab_type": "text"
      },
      "source": [
        "**Answer:**"
      ]
    },
    {
      "cell_type": "markdown",
      "metadata": {
        "id": "Yaf-xp_uJ_2J",
        "colab_type": "text"
      },
      "source": [
        "Null Hypothesis is my ordinary concept of the population, also called the 'boring' hypothesis. because it is expected.Represented as $H_0$"
      ]
    },
    {
      "cell_type": "markdown",
      "metadata": {
        "id": "3YgiOjQdK8K0",
        "colab_type": "text"
      },
      "source": [
        "#### What is a t-test useful for?"
      ]
    },
    {
      "cell_type": "markdown",
      "metadata": {
        "id": "6VQmENYnLRHc",
        "colab_type": "text"
      },
      "source": [
        "**Answer:**"
      ]
    },
    {
      "cell_type": "markdown",
      "metadata": {
        "id": "BqH3-4WrLRQX",
        "colab_type": "text"
      },
      "source": [
        "***One sample:***Take a sample of entire population to make assumption of the statistic of the entire population\n",
        "\n",
        "***two sample:*** compare two samples of an entire dataset(Population)"
      ]
    },
    {
      "cell_type": "markdown",
      "metadata": {
        "id": "Zyli6eqPLaTX",
        "colab_type": "text"
      },
      "source": [
        "#### When should you use a 1-tailed vs 2-tailed t-test?"
      ]
    },
    {
      "cell_type": "code",
      "metadata": {
        "id": "aLZh1KtLu86y",
        "colab_type": "code",
        "colab": {}
      },
      "source": [
        ""
      ],
      "execution_count": 0,
      "outputs": []
    },
    {
      "cell_type": "markdown",
      "metadata": {
        "id": "yHOYPrtyLht6",
        "colab_type": "text"
      },
      "source": [
        "**Answer:**"
      ]
    },
    {
      "cell_type": "markdown",
      "metadata": {
        "id": "GVCNuBCALhwB",
        "colab_type": "text"
      },
      "source": [
        "for example, a 1 tail test would let us compare if republicans an democrats support  a bill atthesame rate or if one of them support the bill more than other,.a 2-tail t test would let us also know forhow much more or less support it is on either party"
      ]
    },
    {
      "cell_type": "markdown",
      "metadata": {
        "id": "24TFqBInLl0i",
        "colab_type": "text"
      },
      "source": [
        "#### Propose 3 use cases where t-tests could be implemented."
      ]
    },
    {
      "cell_type": "markdown",
      "metadata": {
        "id": "c5NJNzLCLzNk",
        "colab_type": "text"
      },
      "source": [
        "**Answer:**"
      ]
    },
    {
      "cell_type": "markdown",
      "metadata": {
        "id": "fXBI5MO7LzRb",
        "colab_type": "text"
      },
      "source": [
        "\n",
        "\n",
        "```\n",
        "1`) we can us t-test to see if Electric cars are really better for environment Internal combustion engine\n",
        "2). if Manual Transmission car are more fuel efficient than Automatic transmission cars\n",
        "3) if it is safer to fly a plane than drive  a car. (flying is safer than driving). \n",
        "```\n",
        "\n"
      ]
    },
    {
      "cell_type": "markdown",
      "metadata": {
        "id": "M-w4QxW0MH82",
        "colab_type": "text"
      },
      "source": [
        "## Code\n",
        "---"
      ]
    },
    {
      "cell_type": "code",
      "metadata": {
        "id": "wO5OK_IYMKR7",
        "colab_type": "code",
        "colab": {
          "base_uri": "https://localhost:8080/",
          "height": 72
        },
        "outputId": "4c8119ad-7b29-41d0-8ce8-6fa31dad2c3a"
      },
      "source": [
        "import numpy as np  #  linear algebra\n",
        "import pandas as pd #  data manipulation\n",
        "# pandas config\n",
        "if pd:\n",
        "    pd.set_option('display.max_rows', 500)\n",
        "    pd.set_option('display.max_columns', 500)\n",
        "    pd.set_option('display.width', 1000)\n",
        "from scipy import stats #  statistics\n",
        "\n",
        "#  visualizations\n",
        "import matplotlib.pyplot as plt\n",
        "import seaborn as sns"
      ],
      "execution_count": 1,
      "outputs": [
        {
          "output_type": "stream",
          "text": [
            "/usr/local/lib/python3.6/dist-packages/statsmodels/tools/_testing.py:19: FutureWarning: pandas.util.testing is deprecated. Use the functions in the public API at pandas.testing instead.\n",
            "  import pandas.util.testing as tm\n"
          ],
          "name": "stderr"
        }
      ]
    },
    {
      "cell_type": "code",
      "metadata": {
        "id": "4c4n6qsyPRUk",
        "colab_type": "code",
        "outputId": "8a2175ec-a3fb-41e1-820b-895b577f5c70",
        "colab": {
          "base_uri": "https://localhost:8080/",
          "height": 312
        }
      },
      "source": [
        "parties = [\"republican\", \"democrat\"]\n",
        "\n",
        "issues = [\"handicapped-infants\",\n",
        "          \"water-project-cost-sharing\",\n",
        "          \"adoption-of-the-budget-resolution\",\n",
        "          \"physician-fee-freeze\",\n",
        "          \"el-salvador-aid\",\n",
        "          \"religious-groups-in-schools\",\n",
        "          \"anti-satellite-test-ban\",\n",
        "          \"aid-to-nicaraguan-contras\",\n",
        "          \"mx-missile\",\n",
        "          \"immigration\",\n",
        "          \"synfuels-corporation-cutback\", \n",
        "          \"education-spending\",\n",
        "          \"superfund-right-to-sue\",\n",
        "          \"crime\",\n",
        "          \"duty-free-exports\", \n",
        "          \"export-administration-act-south-africa\", #  <-- While not required placing a comma here can be helpful when going back and ammending / adding to your code \n",
        "         ]\n",
        "\n",
        "columns = [\"party\"] + issues\n",
        "\n",
        "columns"
      ],
      "execution_count": 2,
      "outputs": [
        {
          "output_type": "execute_result",
          "data": {
            "text/plain": [
              "['party',\n",
              " 'handicapped-infants',\n",
              " 'water-project-cost-sharing',\n",
              " 'adoption-of-the-budget-resolution',\n",
              " 'physician-fee-freeze',\n",
              " 'el-salvador-aid',\n",
              " 'religious-groups-in-schools',\n",
              " 'anti-satellite-test-ban',\n",
              " 'aid-to-nicaraguan-contras',\n",
              " 'mx-missile',\n",
              " 'immigration',\n",
              " 'synfuels-corporation-cutback',\n",
              " 'education-spending',\n",
              " 'superfund-right-to-sue',\n",
              " 'crime',\n",
              " 'duty-free-exports',\n",
              " 'export-administration-act-south-africa']"
            ]
          },
          "metadata": {
            "tags": []
          },
          "execution_count": 2
        }
      ]
    },
    {
      "cell_type": "code",
      "metadata": {
        "id": "HZUk63LKQDK6",
        "colab_type": "code",
        "outputId": "850702a0-89a9-4eda-f590-7b0ec6c1063f",
        "colab": {
          "base_uri": "https://localhost:8080/",
          "height": 274
        }
      },
      "source": [
        "# Loading the data\n",
        "uci = \"https://archive.ics.uci.edu/ml/machine-learning-databases\"\n",
        "data = \"/voting-records/house-votes-84.data\"\n",
        "url = uci+'/'+data\n",
        "df = pd.read_csv(url,header=None,names=columns) # YOUR CODE HERE\n",
        "df.head()"
      ],
      "execution_count": 5,
      "outputs": [
        {
          "output_type": "execute_result",
          "data": {
            "text/html": [
              "<div>\n",
              "<style scoped>\n",
              "    .dataframe tbody tr th:only-of-type {\n",
              "        vertical-align: middle;\n",
              "    }\n",
              "\n",
              "    .dataframe tbody tr th {\n",
              "        vertical-align: top;\n",
              "    }\n",
              "\n",
              "    .dataframe thead th {\n",
              "        text-align: right;\n",
              "    }\n",
              "</style>\n",
              "<table border=\"1\" class=\"dataframe\">\n",
              "  <thead>\n",
              "    <tr style=\"text-align: right;\">\n",
              "      <th></th>\n",
              "      <th>party</th>\n",
              "      <th>handicapped-infants</th>\n",
              "      <th>water-project-cost-sharing</th>\n",
              "      <th>adoption-of-the-budget-resolution</th>\n",
              "      <th>physician-fee-freeze</th>\n",
              "      <th>el-salvador-aid</th>\n",
              "      <th>religious-groups-in-schools</th>\n",
              "      <th>anti-satellite-test-ban</th>\n",
              "      <th>aid-to-nicaraguan-contras</th>\n",
              "      <th>mx-missile</th>\n",
              "      <th>immigration</th>\n",
              "      <th>synfuels-corporation-cutback</th>\n",
              "      <th>education-spending</th>\n",
              "      <th>superfund-right-to-sue</th>\n",
              "      <th>crime</th>\n",
              "      <th>duty-free-exports</th>\n",
              "      <th>export-administration-act-south-africa</th>\n",
              "    </tr>\n",
              "  </thead>\n",
              "  <tbody>\n",
              "    <tr>\n",
              "      <th>0</th>\n",
              "      <td>republican</td>\n",
              "      <td>n</td>\n",
              "      <td>y</td>\n",
              "      <td>n</td>\n",
              "      <td>y</td>\n",
              "      <td>y</td>\n",
              "      <td>y</td>\n",
              "      <td>n</td>\n",
              "      <td>n</td>\n",
              "      <td>n</td>\n",
              "      <td>y</td>\n",
              "      <td>?</td>\n",
              "      <td>y</td>\n",
              "      <td>y</td>\n",
              "      <td>y</td>\n",
              "      <td>n</td>\n",
              "      <td>y</td>\n",
              "    </tr>\n",
              "    <tr>\n",
              "      <th>1</th>\n",
              "      <td>republican</td>\n",
              "      <td>n</td>\n",
              "      <td>y</td>\n",
              "      <td>n</td>\n",
              "      <td>y</td>\n",
              "      <td>y</td>\n",
              "      <td>y</td>\n",
              "      <td>n</td>\n",
              "      <td>n</td>\n",
              "      <td>n</td>\n",
              "      <td>n</td>\n",
              "      <td>n</td>\n",
              "      <td>y</td>\n",
              "      <td>y</td>\n",
              "      <td>y</td>\n",
              "      <td>n</td>\n",
              "      <td>?</td>\n",
              "    </tr>\n",
              "    <tr>\n",
              "      <th>2</th>\n",
              "      <td>democrat</td>\n",
              "      <td>?</td>\n",
              "      <td>y</td>\n",
              "      <td>y</td>\n",
              "      <td>?</td>\n",
              "      <td>y</td>\n",
              "      <td>y</td>\n",
              "      <td>n</td>\n",
              "      <td>n</td>\n",
              "      <td>n</td>\n",
              "      <td>n</td>\n",
              "      <td>y</td>\n",
              "      <td>n</td>\n",
              "      <td>y</td>\n",
              "      <td>y</td>\n",
              "      <td>n</td>\n",
              "      <td>n</td>\n",
              "    </tr>\n",
              "    <tr>\n",
              "      <th>3</th>\n",
              "      <td>democrat</td>\n",
              "      <td>n</td>\n",
              "      <td>y</td>\n",
              "      <td>y</td>\n",
              "      <td>n</td>\n",
              "      <td>?</td>\n",
              "      <td>y</td>\n",
              "      <td>n</td>\n",
              "      <td>n</td>\n",
              "      <td>n</td>\n",
              "      <td>n</td>\n",
              "      <td>y</td>\n",
              "      <td>n</td>\n",
              "      <td>y</td>\n",
              "      <td>n</td>\n",
              "      <td>n</td>\n",
              "      <td>y</td>\n",
              "    </tr>\n",
              "    <tr>\n",
              "      <th>4</th>\n",
              "      <td>democrat</td>\n",
              "      <td>y</td>\n",
              "      <td>y</td>\n",
              "      <td>y</td>\n",
              "      <td>n</td>\n",
              "      <td>y</td>\n",
              "      <td>y</td>\n",
              "      <td>n</td>\n",
              "      <td>n</td>\n",
              "      <td>n</td>\n",
              "      <td>n</td>\n",
              "      <td>y</td>\n",
              "      <td>?</td>\n",
              "      <td>y</td>\n",
              "      <td>y</td>\n",
              "      <td>y</td>\n",
              "      <td>y</td>\n",
              "    </tr>\n",
              "  </tbody>\n",
              "</table>\n",
              "</div>"
            ],
            "text/plain": [
              "        party handicapped-infants water-project-cost-sharing adoption-of-the-budget-resolution physician-fee-freeze el-salvador-aid religious-groups-in-schools anti-satellite-test-ban aid-to-nicaraguan-contras mx-missile immigration synfuels-corporation-cutback education-spending superfund-right-to-sue crime duty-free-exports export-administration-act-south-africa\n",
              "0  republican                   n                          y                                 n                    y               y                           y                       n                         n          n           y                            ?                  y                      y     y                 n                                      y\n",
              "1  republican                   n                          y                                 n                    y               y                           y                       n                         n          n           n                            n                  y                      y     y                 n                                      ?\n",
              "2    democrat                   ?                          y                                 y                    ?               y                           y                       n                         n          n           n                            y                  n                      y     y                 n                                      n\n",
              "3    democrat                   n                          y                                 y                    n               ?                           y                       n                         n          n           n                            y                  n                      y     n                 n                                      y\n",
              "4    democrat                   y                          y                                 y                    n               y                           y                       n                         n          n           n                            y                  ?                      y     y                 y                                      y"
            ]
          },
          "metadata": {
            "tags": []
          },
          "execution_count": 5
        }
      ]
    },
    {
      "cell_type": "code",
      "metadata": {
        "id": "zBagneyERDOc",
        "colab_type": "code",
        "outputId": "811d4b90-b06e-41f7-9719-322f68eff8e1",
        "colab": {
          "base_uri": "https://localhost:8080/",
          "height": 274
        }
      },
      "source": [
        "# Replace the entries in the dataframe so y = 1 , n = 0 , and ? = np.NaN\n",
        "\n",
        "df = df.replace({'y':1,'n':0,'?':np.NaN}) # YOUR CODE HERE\n",
        "\n",
        "df.head()"
      ],
      "execution_count": 6,
      "outputs": [
        {
          "output_type": "execute_result",
          "data": {
            "text/html": [
              "<div>\n",
              "<style scoped>\n",
              "    .dataframe tbody tr th:only-of-type {\n",
              "        vertical-align: middle;\n",
              "    }\n",
              "\n",
              "    .dataframe tbody tr th {\n",
              "        vertical-align: top;\n",
              "    }\n",
              "\n",
              "    .dataframe thead th {\n",
              "        text-align: right;\n",
              "    }\n",
              "</style>\n",
              "<table border=\"1\" class=\"dataframe\">\n",
              "  <thead>\n",
              "    <tr style=\"text-align: right;\">\n",
              "      <th></th>\n",
              "      <th>party</th>\n",
              "      <th>handicapped-infants</th>\n",
              "      <th>water-project-cost-sharing</th>\n",
              "      <th>adoption-of-the-budget-resolution</th>\n",
              "      <th>physician-fee-freeze</th>\n",
              "      <th>el-salvador-aid</th>\n",
              "      <th>religious-groups-in-schools</th>\n",
              "      <th>anti-satellite-test-ban</th>\n",
              "      <th>aid-to-nicaraguan-contras</th>\n",
              "      <th>mx-missile</th>\n",
              "      <th>immigration</th>\n",
              "      <th>synfuels-corporation-cutback</th>\n",
              "      <th>education-spending</th>\n",
              "      <th>superfund-right-to-sue</th>\n",
              "      <th>crime</th>\n",
              "      <th>duty-free-exports</th>\n",
              "      <th>export-administration-act-south-africa</th>\n",
              "    </tr>\n",
              "  </thead>\n",
              "  <tbody>\n",
              "    <tr>\n",
              "      <th>0</th>\n",
              "      <td>republican</td>\n",
              "      <td>0.0</td>\n",
              "      <td>1.0</td>\n",
              "      <td>0.0</td>\n",
              "      <td>1.0</td>\n",
              "      <td>1.0</td>\n",
              "      <td>1.0</td>\n",
              "      <td>0.0</td>\n",
              "      <td>0.0</td>\n",
              "      <td>0.0</td>\n",
              "      <td>1.0</td>\n",
              "      <td>NaN</td>\n",
              "      <td>1.0</td>\n",
              "      <td>1.0</td>\n",
              "      <td>1.0</td>\n",
              "      <td>0.0</td>\n",
              "      <td>1.0</td>\n",
              "    </tr>\n",
              "    <tr>\n",
              "      <th>1</th>\n",
              "      <td>republican</td>\n",
              "      <td>0.0</td>\n",
              "      <td>1.0</td>\n",
              "      <td>0.0</td>\n",
              "      <td>1.0</td>\n",
              "      <td>1.0</td>\n",
              "      <td>1.0</td>\n",
              "      <td>0.0</td>\n",
              "      <td>0.0</td>\n",
              "      <td>0.0</td>\n",
              "      <td>0.0</td>\n",
              "      <td>0.0</td>\n",
              "      <td>1.0</td>\n",
              "      <td>1.0</td>\n",
              "      <td>1.0</td>\n",
              "      <td>0.0</td>\n",
              "      <td>NaN</td>\n",
              "    </tr>\n",
              "    <tr>\n",
              "      <th>2</th>\n",
              "      <td>democrat</td>\n",
              "      <td>NaN</td>\n",
              "      <td>1.0</td>\n",
              "      <td>1.0</td>\n",
              "      <td>NaN</td>\n",
              "      <td>1.0</td>\n",
              "      <td>1.0</td>\n",
              "      <td>0.0</td>\n",
              "      <td>0.0</td>\n",
              "      <td>0.0</td>\n",
              "      <td>0.0</td>\n",
              "      <td>1.0</td>\n",
              "      <td>0.0</td>\n",
              "      <td>1.0</td>\n",
              "      <td>1.0</td>\n",
              "      <td>0.0</td>\n",
              "      <td>0.0</td>\n",
              "    </tr>\n",
              "    <tr>\n",
              "      <th>3</th>\n",
              "      <td>democrat</td>\n",
              "      <td>0.0</td>\n",
              "      <td>1.0</td>\n",
              "      <td>1.0</td>\n",
              "      <td>0.0</td>\n",
              "      <td>NaN</td>\n",
              "      <td>1.0</td>\n",
              "      <td>0.0</td>\n",
              "      <td>0.0</td>\n",
              "      <td>0.0</td>\n",
              "      <td>0.0</td>\n",
              "      <td>1.0</td>\n",
              "      <td>0.0</td>\n",
              "      <td>1.0</td>\n",
              "      <td>0.0</td>\n",
              "      <td>0.0</td>\n",
              "      <td>1.0</td>\n",
              "    </tr>\n",
              "    <tr>\n",
              "      <th>4</th>\n",
              "      <td>democrat</td>\n",
              "      <td>1.0</td>\n",
              "      <td>1.0</td>\n",
              "      <td>1.0</td>\n",
              "      <td>0.0</td>\n",
              "      <td>1.0</td>\n",
              "      <td>1.0</td>\n",
              "      <td>0.0</td>\n",
              "      <td>0.0</td>\n",
              "      <td>0.0</td>\n",
              "      <td>0.0</td>\n",
              "      <td>1.0</td>\n",
              "      <td>NaN</td>\n",
              "      <td>1.0</td>\n",
              "      <td>1.0</td>\n",
              "      <td>1.0</td>\n",
              "      <td>1.0</td>\n",
              "    </tr>\n",
              "  </tbody>\n",
              "</table>\n",
              "</div>"
            ],
            "text/plain": [
              "        party  handicapped-infants  water-project-cost-sharing  adoption-of-the-budget-resolution  physician-fee-freeze  el-salvador-aid  religious-groups-in-schools  anti-satellite-test-ban  aid-to-nicaraguan-contras  mx-missile  immigration  synfuels-corporation-cutback  education-spending  superfund-right-to-sue  crime  duty-free-exports  export-administration-act-south-africa\n",
              "0  republican                  0.0                         1.0                                0.0                   1.0              1.0                          1.0                      0.0                        0.0         0.0          1.0                           NaN                 1.0                     1.0    1.0                0.0                                     1.0\n",
              "1  republican                  0.0                         1.0                                0.0                   1.0              1.0                          1.0                      0.0                        0.0         0.0          0.0                           0.0                 1.0                     1.0    1.0                0.0                                     NaN\n",
              "2    democrat                  NaN                         1.0                                1.0                   NaN              1.0                          1.0                      0.0                        0.0         0.0          0.0                           1.0                 0.0                     1.0    1.0                0.0                                     0.0\n",
              "3    democrat                  0.0                         1.0                                1.0                   0.0              NaN                          1.0                      0.0                        0.0         0.0          0.0                           1.0                 0.0                     1.0    0.0                0.0                                     1.0\n",
              "4    democrat                  1.0                         1.0                                1.0                   0.0              1.0                          1.0                      0.0                        0.0         0.0          0.0                           1.0                 NaN                     1.0    1.0                1.0                                     1.0"
            ]
          },
          "metadata": {
            "tags": []
          },
          "execution_count": 6
        }
      ]
    },
    {
      "cell_type": "code",
      "metadata": {
        "id": "tYYNF-9mVliG",
        "colab_type": "code",
        "outputId": "5b340096-73f6-4922-850f-88ce83905305",
        "colab": {
          "base_uri": "https://localhost:8080/",
          "height": 35
        }
      },
      "source": [
        "# Create seperate dataframes for republicans and democrats by slicing the above dataframe.\n",
        "\n",
        "republicans = df[df['party'] == 'republican']# YOUR CODE HERE\n",
        "democrats = df[df['party'] == 'democrat']# YOUR CODE HERE\n",
        "\n",
        "print(len(republicans), len(democrats))"
      ],
      "execution_count": 7,
      "outputs": [
        {
          "output_type": "stream",
          "text": [
            "168 267\n"
          ],
          "name": "stdout"
        }
      ]
    },
    {
      "cell_type": "code",
      "metadata": {
        "id": "hxHPQCadxVXt",
        "colab_type": "code",
        "colab": {
          "base_uri": "https://localhost:8080/",
          "height": 35
        },
        "outputId": "ea6ae5c8-1d87-4116-ea03-e36610ad1a89"
      },
      "source": [
        "democrats['crime'].mean()"
      ],
      "execution_count": 9,
      "outputs": [
        {
          "output_type": "execute_result",
          "data": {
            "text/plain": [
              "0.35019455252918286"
            ]
          },
          "metadata": {
            "tags": []
          },
          "execution_count": 9
        }
      ]
    },
    {
      "cell_type": "code",
      "metadata": {
        "id": "GCUrrB23Wn8i",
        "colab_type": "code",
        "colab": {}
      },
      "source": [
        "# Define a function to compare the means between both parties\n",
        "\n",
        "def compare_means(issues):\n",
        "    \"\"\"Compares the means of both parties for each issue\"\"\"\n",
        "    for issue in issues:\n",
        "        mean_dems = democrats[issue].mean()# YOUR CODE HERE\n",
        "        mean_reps = republicans[issue].mean()# YOUR CODE HERE\n",
        "        banner_length = \"-\"*len(issue)\n",
        "\n",
        "        print(f\"\"\"\n",
        "        Issue ({issue})\n",
        "        -------{banner_length}-\n",
        "\n",
        "          Democrat voting mean: {mean_dems:.05f}\n",
        "        Republican voting mean: {mean_reps:.05f}\n",
        "        \"\"\")"
      ],
      "execution_count": 0,
      "outputs": []
    },
    {
      "cell_type": "code",
      "metadata": {
        "id": "fZ1LPNjYXujj",
        "colab_type": "code",
        "colab": {
          "base_uri": "https://localhost:8080/",
          "height": 1000
        },
        "outputId": "53ae35c1-8f12-457b-8819-7e044aa1fc2b"
      },
      "source": [
        "compare_means(issues=issues)"
      ],
      "execution_count": 15,
      "outputs": [
        {
          "output_type": "stream",
          "text": [
            "\n",
            "        Issue (handicapped-infants)\n",
            "        ---------------------------\n",
            "\n",
            "          Democrat voting mean: 0.60465\n",
            "        Republican voting mean: 0.18788\n",
            "        \n",
            "\n",
            "        Issue (water-project-cost-sharing)\n",
            "        ----------------------------------\n",
            "\n",
            "          Democrat voting mean: 0.50209\n",
            "        Republican voting mean: 0.50676\n",
            "        \n",
            "\n",
            "        Issue (adoption-of-the-budget-resolution)\n",
            "        -----------------------------------------\n",
            "\n",
            "          Democrat voting mean: 0.88846\n",
            "        Republican voting mean: 0.13415\n",
            "        \n",
            "\n",
            "        Issue (physician-fee-freeze)\n",
            "        ----------------------------\n",
            "\n",
            "          Democrat voting mean: 0.05405\n",
            "        Republican voting mean: 0.98788\n",
            "        \n",
            "\n",
            "        Issue (el-salvador-aid)\n",
            "        -----------------------\n",
            "\n",
            "          Democrat voting mean: 0.21569\n",
            "        Republican voting mean: 0.95152\n",
            "        \n",
            "\n",
            "        Issue (religious-groups-in-schools)\n",
            "        -----------------------------------\n",
            "\n",
            "          Democrat voting mean: 0.47674\n",
            "        Republican voting mean: 0.89759\n",
            "        \n",
            "\n",
            "        Issue (anti-satellite-test-ban)\n",
            "        -------------------------------\n",
            "\n",
            "          Democrat voting mean: 0.77220\n",
            "        Republican voting mean: 0.24074\n",
            "        \n",
            "\n",
            "        Issue (aid-to-nicaraguan-contras)\n",
            "        ---------------------------------\n",
            "\n",
            "          Democrat voting mean: 0.82890\n",
            "        Republican voting mean: 0.15287\n",
            "        \n",
            "\n",
            "        Issue (mx-missile)\n",
            "        ------------------\n",
            "\n",
            "          Democrat voting mean: 0.75806\n",
            "        Republican voting mean: 0.11515\n",
            "        \n",
            "\n",
            "        Issue (immigration)\n",
            "        -------------------\n",
            "\n",
            "          Democrat voting mean: 0.47148\n",
            "        Republican voting mean: 0.55758\n",
            "        \n",
            "\n",
            "        Issue (synfuels-corporation-cutback)\n",
            "        ------------------------------------\n",
            "\n",
            "          Democrat voting mean: 0.50588\n",
            "        Republican voting mean: 0.13208\n",
            "        \n",
            "\n",
            "        Issue (education-spending)\n",
            "        --------------------------\n",
            "\n",
            "          Democrat voting mean: 0.14458\n",
            "        Republican voting mean: 0.87097\n",
            "        \n",
            "\n",
            "        Issue (superfund-right-to-sue)\n",
            "        ------------------------------\n",
            "\n",
            "          Democrat voting mean: 0.28968\n",
            "        Republican voting mean: 0.86076\n",
            "        \n",
            "\n",
            "        Issue (crime)\n",
            "        -------------\n",
            "\n",
            "          Democrat voting mean: 0.35019\n",
            "        Republican voting mean: 0.98137\n",
            "        \n",
            "\n",
            "        Issue (duty-free-exports)\n",
            "        -------------------------\n",
            "\n",
            "          Democrat voting mean: 0.63745\n",
            "        Republican voting mean: 0.08974\n",
            "        \n",
            "\n",
            "        Issue (export-administration-act-south-africa)\n",
            "        ----------------------------------------------\n",
            "\n",
            "          Democrat voting mean: 0.93514\n",
            "        Republican voting mean: 0.65753\n",
            "        \n"
          ],
          "name": "stdout"
        }
      ]
    },
    {
      "cell_type": "code",
      "metadata": {
        "id": "Egg9KD8aXyXL",
        "colab_type": "code",
        "colab": {}
      },
      "source": [
        "# Add the two sample t-test to the function\n",
        "\n",
        "def compare_parties(issues):\n",
        "    \"\"\"Compares the means of both parties for each issue\n",
        "\n",
        "    Returns\n",
        "    -------\n",
        "\n",
        "        Prints to stdout the mean support for each party on each issue and the\n",
        "        results of 2 tailed t-test.    \n",
        "    \"\"\"\n",
        "    for issue in issues:\n",
        "        mean_dems = democrats[issue].mean() # YOUR CODE HERE\n",
        "        mean_reps = republicans[issue].mean()# YOUR CODE HERE\n",
        "        \n",
        "        ttest_2samp = stats.ttest_ind(democrats[issue],republicans[issue],nan_policy='omit') # YOUR CODE HERE\n",
        "        \n",
        "        sep = \"--------\" + \"-\"*len(issue)+\"-\"\n",
        "\n",
        "        print(f\"\"\"\n",
        "        Issue ({issue})\n",
        "        {sep}\n",
        "\n",
        "          Democrat voting mean: {mean_dems:.05f}\n",
        "        Republican voting mean: {mean_reps:.05f}\n",
        "                t-test results: {ttest_2samp}\n",
        "        \n",
        "        {sep}\n",
        "        \"\"\")\n"
      ],
      "execution_count": 0,
      "outputs": []
    },
    {
      "cell_type": "code",
      "metadata": {
        "id": "ULhVpYs2ZXXe",
        "colab_type": "code",
        "colab": {
          "base_uri": "https://localhost:8080/",
          "height": 1000
        },
        "outputId": "372f9f9b-b0d4-44e8-e3c8-c38676d66d38"
      },
      "source": [
        "compare_parties(issues=issues)"
      ],
      "execution_count": 19,
      "outputs": [
        {
          "output_type": "stream",
          "text": [
            "\n",
            "        Issue (handicapped-infants)\n",
            "        ----------------------------\n",
            "\n",
            "          Democrat voting mean: 0.60465\n",
            "        Republican voting mean: 0.18788\n",
            "                t-test results: Ttest_indResult(statistic=9.205264294809222, pvalue=1.613440327937243e-18)\n",
            "        \n",
            "        ----------------------------\n",
            "        \n",
            "\n",
            "        Issue (water-project-cost-sharing)\n",
            "        -----------------------------------\n",
            "\n",
            "          Democrat voting mean: 0.50209\n",
            "        Republican voting mean: 0.50676\n",
            "                t-test results: Ttest_indResult(statistic=-0.08896538137868286, pvalue=0.9291556823993485)\n",
            "        \n",
            "        -----------------------------------\n",
            "        \n",
            "\n",
            "        Issue (adoption-of-the-budget-resolution)\n",
            "        ------------------------------------------\n",
            "\n",
            "          Democrat voting mean: 0.88846\n",
            "        Republican voting mean: 0.13415\n",
            "                t-test results: Ttest_indResult(statistic=23.21277691701378, pvalue=2.0703402795404463e-77)\n",
            "        \n",
            "        ------------------------------------------\n",
            "        \n",
            "\n",
            "        Issue (physician-fee-freeze)\n",
            "        -----------------------------\n",
            "\n",
            "          Democrat voting mean: 0.05405\n",
            "        Republican voting mean: 0.98788\n",
            "                t-test results: Ttest_indResult(statistic=-49.36708157301406, pvalue=1.994262314074344e-177)\n",
            "        \n",
            "        -----------------------------\n",
            "        \n",
            "\n",
            "        Issue (el-salvador-aid)\n",
            "        ------------------------\n",
            "\n",
            "          Democrat voting mean: 0.21569\n",
            "        Republican voting mean: 0.95152\n",
            "                t-test results: Ttest_indResult(statistic=-21.13669261173219, pvalue=5.600520111729011e-68)\n",
            "        \n",
            "        ------------------------\n",
            "        \n",
            "\n",
            "        Issue (religious-groups-in-schools)\n",
            "        ------------------------------------\n",
            "\n",
            "          Democrat voting mean: 0.47674\n",
            "        Republican voting mean: 0.89759\n",
            "                t-test results: Ttest_indResult(statistic=-9.737575825219457, pvalue=2.3936722520597287e-20)\n",
            "        \n",
            "        ------------------------------------\n",
            "        \n",
            "\n",
            "        Issue (anti-satellite-test-ban)\n",
            "        --------------------------------\n",
            "\n",
            "          Democrat voting mean: 0.77220\n",
            "        Republican voting mean: 0.24074\n",
            "                t-test results: Ttest_indResult(statistic=12.526187929077842, pvalue=8.521033017443867e-31)\n",
            "        \n",
            "        --------------------------------\n",
            "        \n",
            "\n",
            "        Issue (aid-to-nicaraguan-contras)\n",
            "        ----------------------------------\n",
            "\n",
            "          Democrat voting mean: 0.82890\n",
            "        Republican voting mean: 0.15287\n",
            "                t-test results: Ttest_indResult(statistic=18.052093200819733, pvalue=2.82471841372357e-54)\n",
            "        \n",
            "        ----------------------------------\n",
            "        \n",
            "\n",
            "        Issue (mx-missile)\n",
            "        -------------------\n",
            "\n",
            "          Democrat voting mean: 0.75806\n",
            "        Republican voting mean: 0.11515\n",
            "                t-test results: Ttest_indResult(statistic=16.437503268542994, pvalue=5.03079265310811e-47)\n",
            "        \n",
            "        -------------------\n",
            "        \n",
            "\n",
            "        Issue (immigration)\n",
            "        --------------------\n",
            "\n",
            "          Democrat voting mean: 0.47148\n",
            "        Republican voting mean: 0.55758\n",
            "                t-test results: Ttest_indResult(statistic=-1.7359117329695164, pvalue=0.08330248490425066)\n",
            "        \n",
            "        --------------------\n",
            "        \n",
            "\n",
            "        Issue (synfuels-corporation-cutback)\n",
            "        -------------------------------------\n",
            "\n",
            "          Democrat voting mean: 0.50588\n",
            "        Republican voting mean: 0.13208\n",
            "                t-test results: Ttest_indResult(statistic=8.293603989407588, pvalue=1.5759322301054064e-15)\n",
            "        \n",
            "        -------------------------------------\n",
            "        \n",
            "\n",
            "        Issue (education-spending)\n",
            "        ---------------------------\n",
            "\n",
            "          Democrat voting mean: 0.14458\n",
            "        Republican voting mean: 0.87097\n",
            "                t-test results: Ttest_indResult(statistic=-20.500685724563073, pvalue=1.8834203990450192e-64)\n",
            "        \n",
            "        ---------------------------\n",
            "        \n",
            "\n",
            "        Issue (superfund-right-to-sue)\n",
            "        -------------------------------\n",
            "\n",
            "          Democrat voting mean: 0.28968\n",
            "        Republican voting mean: 0.86076\n",
            "                t-test results: Ttest_indResult(statistic=-13.51064251060933, pvalue=1.2278581709672758e-34)\n",
            "        \n",
            "        -------------------------------\n",
            "        \n",
            "\n",
            "        Issue (crime)\n",
            "        --------------\n",
            "\n",
            "          Democrat voting mean: 0.35019\n",
            "        Republican voting mean: 0.98137\n",
            "                t-test results: Ttest_indResult(statistic=-16.342085656197696, pvalue=9.952342705606092e-47)\n",
            "        \n",
            "        --------------\n",
            "        \n",
            "\n",
            "        Issue (duty-free-exports)\n",
            "        --------------------------\n",
            "\n",
            "          Democrat voting mean: 0.63745\n",
            "        Republican voting mean: 0.08974\n",
            "                t-test results: Ttest_indResult(statistic=12.853146132542978, pvalue=5.997697174347365e-32)\n",
            "        \n",
            "        --------------------------\n",
            "        \n",
            "\n",
            "        Issue (export-administration-act-south-africa)\n",
            "        -----------------------------------------------\n",
            "\n",
            "          Democrat voting mean: 0.93514\n",
            "        Republican voting mean: 0.65753\n",
            "                t-test results: Ttest_indResult(statistic=6.849454815841208, pvalue=3.652674361672226e-11)\n",
            "        \n",
            "        -----------------------------------------------\n",
            "        \n"
          ],
          "name": "stdout"
        }
      ]
    }
  ]
}